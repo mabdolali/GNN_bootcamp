{
 "cells": [
  {
   "cell_type": "markdown",
   "metadata": {},
   "source": [
    "# Graphs"
   ]
  },
  {
   "cell_type": "markdown",
   "metadata": {},
   "source": [
    "## What is a graph?\n"
   ]
  },
  {
   "cell_type": "markdown",
   "metadata": {},
   "source": [
    "Graphs are all around us; real world objects are often defined in terms of their connections to other things.\n",
    "\n",
    "But what is a graph?\n",
    "\n",
    "*A graph represents the relations (edges) between a collection of entities (nodes).* What makes graphs special is that they represent relationships.\n",
    "\n",
    "<center><img src=\"images\\\\graph.png\" width=\"400\"/></center>\n",
    "\n",
    "Formally, let the graph $\\mathcal{G}=(\\mathcal{V},\\mathcal{E})$ be represented as a set of $n$ nodes $v_i \\in \\mathcal{V}$ with node feature matrix $X \\in \\mathbb{R}^{d\\times n}$, edges $(v_i, v_j) \\in \\mathcal{E}$ (binary or weighted)."
   ]
  },
  {
   "cell_type": "markdown",
   "metadata": {},
   "source": [
    "## Who started the graph study (theory)?\n",
    "\n"
   ]
  },
  {
   "cell_type": "markdown",
   "metadata": {},
   "source": [
    "Königsberg (now Kaliningrad, Russia) was a city from the old Kingdom of Prussia spanning along both sides of the Pregel river. The city had two islands that were connected to the mainland through bridges. The smaller island was connected with two bridges to either side of the river, while the bigger island was connected with only one. Additionally, there was one bridge connecting both islands. \n",
    "<center><img src=\"images/Koenigsberg.jpeg\" width=\"500\"/></center>\n",
    "<center><small>image from https://www.xomnia.com/post/graph-theory-and-its-uses-with-examples-of-real-life-problems/</small></center>\n",
    "\n",
    " Imagine that you are a tourist and want to cross *all 7 bridges* because they are the main attraction of the city. However, you are a bit lazy and do not want to walk too much. So, you do not want to cross the same bridge more than one time. Is there a path through the city that does this? *No  matter how many paths you try, you will not find a solution!*\n",
    "\n",
    "Leonhard Euler, a famous  mathematician, realized this, and explained why it was impossible to make this path through the city. \n",
    "He realized the only important part to consider for the problem was the connections between the different landmasses. He drew dots to represent the landmasses and lines connecting these dots to represent the bridges. The location of the dots and the shape of the lines are not relevant for the problem, only their relation. In the end, he had an abstraction of the problem with only dots and lines, which  is now called a graph.\n",
    "\n",
    "<center><img src=\"images/Koenigsberg2.png\" width=\"700\"></center>\n",
    "<center><small>image from https://www.xomnia.com/post/graph-theory-and-its-uses-with-examples-of-real-life-problems/</small></center>\n",
    "\n",
    "He thought that in order to walk through a landmass you need to enter through a bridge and exit from a different bridge. This means that the dot representing that landmass needs two lines connecting it to represent the enter and exit line. More generally, the dot can have any even number of lines as connections. This does not necessarily apply for two dots, which are the first and last landmass in the path. This proves that it is impossible to make a path that crosses through all bridges.\n",
    "By abstracting the problem, Euler started the field of graph theory and his solution became the first theorem of this field."
   ]
  },
  {
   "cell_type": "markdown",
   "metadata": {},
   "source": [
    "## Types of graphs"
   ]
  },
  {
   "cell_type": "markdown",
   "metadata": {},
   "source": [
    "Graphs come in various types, each suited to different applications and possessing unique properties. Here are some common types of graphs:\n",
    "\n",
    "1. Undirected Graph:\n",
    "\n",
    "    - Definition: A graph where edges have no direction. The edge $(v_i, v_j)$ is identical to $(v_j, v_i)$.\n",
    "    - Use Case: Social networks, where friendships are mutual.\n",
    "2. Directed Graph:\n",
    "\n",
    "    - Definition: A graph where edges have a direction. The edge $(v_i, v_j)$ is different from $(v_j, v_i)$.\n",
    "    - Use Case: Web page linking (where a link goes from one page to another).\n",
    "\n",
    "3. Weighted Graph:\n",
    "\n",
    "    - Definition: A graph where edges have weights representing costs, similarities or distances.\n",
    "    - Use Case: Road networks with distances or travel times, network routing.\n",
    "\n",
    "4. Unweighted Graph:\n",
    "\n",
    "    - Definition: A graph where all edges have the same weight, typically treated as 1.\n",
    "    - Use Case: Basic connectivity scenarios, simple social networks.\n",
    "\n",
    "And several other types of graphs, such as: Multigraph (graph with multiple edges between the same set of vertices), cyclic graph (graph with at least one cycle), Complete graph (a graph in which every pair of vertices is connected by a unique edge), Bipartite graph (a graph whose vertices can be divided into two disjoint sets such that every edge connects a vertex in one set to a vertex in the other), Planar graph (a graph that can be embedded in the plane so that no edges cross each other), Sparse graph and dense graph.\n",
    "\n",
    "<center><img src=\"images/types_graphs.png\" width=\"500\"> </center>\n",
    "<center><small>image from https://neo4j.com/blog/graph-algorithms-neo4j-graph-algorithm-concepts</small></center>"
   ]
  },
  {
   "cell_type": "markdown",
   "metadata": {},
   "source": [
    "## Applications of graphs"
   ]
  },
  {
   "cell_type": "markdown",
   "metadata": {},
   "source": [
    "Graph is used in vast area of science and technologies. Some of them are given below:\n",
    "\n",
    "- <b>Computer networks</b> are extremely popular in today's life. In computer networks nodes are connected to each other via links.\n",
    "<center><img src=\"images/computer_network.jpg\", width=\"500\"></center>\n",
    "\n",
    "- <b>World wide web</b> is an example of a directed graph. It is also the basic idea behind the Google ranking system. In the World Wide Web system, every website and web app is treated as a node or vertices, and the links from one website to another are considered the edge.\n",
    "<center><img src=\"images/WWW.png\", width=\"500\"></center>\n",
    "\n",
    "- Graphs are used to model <b>molecule structures </b>for computer processing. Here atoms can be\n",
    "considered as vertices of a graph the bonds that connects them are represented as edges between them. This structures are created based on the properties of compounds and are taken for analysis and processing\n",
    "<center><img src=\"images/molicul.png\", width=\"500\"></center>\n",
    "\n",
    "- <b>Scocial networks</b> such as Facebook and Twitter. Graphs that represent who knows whom, who communicates with whom, who influences whom or other relationships in social structures. An example is the twitter graph of who follows whom. These can be used to determine how information flows, how topics become hot, how communities develop, or even who might be a good match for who.\n",
    "<center><img src=\"images/social_networks.jpg\", width=\"500\"></center>\n",
    "\n",
    "- <b> Transportation networks </b>. In road networks vertices are intersections and edges are the\n",
    "road segments between them, and for public transportation networks vertices are stops and edges are the links between them. Such networks are used by many map programs such as Google maps to find the best routes between locations. They are also used for studying traffic patterns, traffic light timings, and many aspects of transportation.\n",
    "\n",
    "<center><img src=\"images/transportation_network.jpeg\", width=\"500\"></center>\n",
    "\n",
    "- <b>Protein-protein interactions graphs</b>. Vertices represent proteins and edges represent\n",
    "interactions between them that carry out some biological function in the cell. These graphs\n",
    "can be used, for example, to study molecular pathways—chains of molecular interactions\n",
    "in a cellular process. Humans have over 120K proteins with millions of interactions among\n",
    "them.\n",
    "\n",
    "<center><img src=\"images/protein.png\", width=\"500\"></center>\n",
    "<center><small>image from https://string-db.org/</small></center>"
   ]
  },
  {
   "cell_type": "markdown",
   "metadata": {},
   "source": [
    "## Different types of machine learning tasks with graphs"
   ]
  },
  {
   "cell_type": "markdown",
   "metadata": {},
   "source": [
    " what tasks do we want to perform on this data? \n",
    " \n",
    " There are Four general types of prediction tasks on graphs: graph-level, node-level, edge-level and subgraph level.\n",
    "\n",
    " <center><img src=\"images/type_tasks.png\", width=\"500\"></center>\n",
    "\n",
    " #### Graph-level task:\n",
    "\n",
    "In a graph-level task, our goal is to predict the property of an entire graph. For example, for a molecule represented as a graph, we might want to predict what the molecule smells like, or whether it will bind to a receptor implicated in a disease. This is analogous to image classification problems with MNIST and CIFAR, where we want to associate a label to an entire image. With text, a similar problem is sentiment analysis where we want to identify the mood or emotion of an entire sentence at once.\n",
    "\n",
    "<center><img src=\"images/graph_level.png\", width=\"800\"></center>\n",
    "<center><small>image from https://distill.pub/2021/gnn-intro/</small></center>\n",
    "\n",
    "#### Node-level task:\n",
    "\n",
    "Node-level tasks are concerned with predicting the identity or role of each node within a graph.\n",
    "\n",
    "A classic example of a node-level prediction problem is Zach’s karate club.\n",
    "The dataset is a single social network graph made up of individuals that have sworn allegiance to one of two karate clubs after a political rift. As the story goes, a feud between Mr. Hi (Instructor) and John H (Administrator) creates a schism in the karate club. The nodes represent individual karate practitioners, and the edges represent interactions between these members outside of karate. The prediction problem is to classify whether a given member becomes loyal to either Mr. Hi or John H, after the feud. In this case, distance between a node to either the Instructor or Administrator is highly correlated to this label.\n",
    "\n",
    "Following the image analogy, node-level prediction problems are analogous to image segmentation, where we are trying to label the role of each pixel in an image. With text, a similar task would be predicting the parts-of-speech of each word in a sentence (e.g. noun, verb, adverb, etc).\n",
    "\n",
    "<center><img src=\"images/node_level.png\", width=\"800\"></center>\n",
    "<center><small>image from https://distill.pub/2021/gnn-intro/</small></center>\n",
    "\n",
    "#### Edge-level task:\n",
    "\n",
    "One example of edge-level inference is in image scene understanding. Beyond identifying objects in an image, deep learning models can be used to predict the relationship between them. We can phrase this as an edge-level classification: given nodes that represent the objects in the image, we wish to predict which of these nodes share an edge or what the value of that edge is. If we wish to discover connections between entities, we could consider the graph fully connected and based on their predicted value prune edges to arrive at a sparse graph.\n",
    "\n",
    "<center><img src=\"images/edge_level.png\", width=\"600\"></center>\n",
    "<center><small>image from https://distill.pub/2021/gnn-intro/</small></center>"
   ]
  },
  {
   "cell_type": "markdown",
   "metadata": {},
   "source": [
    "## Resources\n",
    "\n",
    "- https://www.xomnia.com/post/graph-theory-and-its-uses-with-examples-of-real-life-problems/\n",
    "- https://distill.pub/2021/gnn-intro/\n",
    "- https://www.cs.cmu.edu/afs/cs/academic/class/15210-s14/www/lectures/graphs.pdf"
   ]
  }
 ],
 "metadata": {
  "kernelspec": {
   "display_name": "Python 3",
   "language": "python",
   "name": "python3"
  },
  "language_info": {
   "codemirror_mode": {
    "name": "ipython",
    "version": 3
   },
   "file_extension": ".py",
   "mimetype": "text/x-python",
   "name": "python",
   "nbconvert_exporter": "python",
   "pygments_lexer": "ipython3",
   "version": "3.11.1"
  }
 },
 "nbformat": 4,
 "nbformat_minor": 2
}
